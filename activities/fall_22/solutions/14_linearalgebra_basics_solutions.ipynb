{
 "cells": [
  {
   "cell_type": "code",
   "execution_count": 8,
   "metadata": {},
   "outputs": [],
   "source": [
    "## printouts\n",
    "from IPython.core.interactiveshell import InteractiveShell\n",
    "InteractiveShell.ast_node_interactivity = \"all\"\n",
    "\n",
    "## imports \n",
    "import numpy as np"
   ]
  },
  {
   "cell_type": "markdown",
   "metadata": {},
   "source": [
    "# 1. Vector  operations"
   ]
  },
  {
   "cell_type": "markdown",
   "metadata": {},
   "source": [
    "## 1.1 Practice problem: dot product\n",
    "\n",
    "See slide for instructions"
   ]
  },
  {
   "cell_type": "code",
   "execution_count": 2,
   "metadata": {},
   "outputs": [],
   "source": [
    "# provided \n",
    "paul_wellstone = [0, 8, 2]\n",
    "joe_lieberman = [4, 2, 6]\n",
    "dianne_feinstein = [3, 1, 1]"
   ]
  },
  {
   "cell_type": "code",
   "execution_count": 11,
   "metadata": {},
   "outputs": [
    {
     "name": "stdout",
     "output_type": "stream",
     "text": [
      "Dot product of weinstein and lieberman is 28\n"
     ]
    },
    {
     "data": {
      "text/plain": [
       "10"
      ]
     },
     "execution_count": 11,
     "metadata": {},
     "output_type": "execute_result"
    },
    {
     "data": {
      "text/plain": [
       "20"
      ]
     },
     "execution_count": 11,
     "metadata": {},
     "output_type": "execute_result"
    }
   ],
   "source": [
    "# finding it more manually\n",
    "## one example\n",
    "w_l = (0*4)+(8*2) + (2*6)\n",
    "print(\"Dot product of weinstein and lieberman is \" + str(w_l))\n",
    "\n",
    "## complete for the other two \n",
    "w_f = (0*3) + (8*1) + (2*1)\n",
    "w_f\n",
    "l_f = (4*3) + (2*1) + (6*1)\n",
    "l_f\n"
   ]
  },
  {
   "cell_type": "code",
   "execution_count": 15,
   "metadata": {},
   "outputs": [
    {
     "data": {
      "text/plain": [
       "28"
      ]
     },
     "execution_count": 15,
     "metadata": {},
     "output_type": "execute_result"
    },
    {
     "data": {
      "text/plain": [
       "10"
      ]
     },
     "execution_count": 15,
     "metadata": {},
     "output_type": "execute_result"
    },
    {
     "data": {
      "text/plain": [
       "20"
      ]
     },
     "execution_count": 15,
     "metadata": {},
     "output_type": "execute_result"
    }
   ],
   "source": [
    "# finding it using dot function in numpy\n",
    "## one example\n",
    "w_l_auto = np.dot(paul_wellstone, joe_lieberman)\n",
    "w_l_auto\n",
    "\n",
    "## complete for remainder\n",
    "w_f_auto = np.dot(paul_wellstone, dianne_feinstein)\n",
    "w_f_auto\n",
    "l_f_auto = np.dot(joe_lieberman, dianne_feinstein)\n",
    "l_f_auto"
   ]
  },
  {
   "cell_type": "markdown",
   "metadata": {},
   "source": [
    "## 1.2 Practice problem 2: cross product \n",
    "\n",
    "See slide for instructions"
   ]
  },
  {
   "cell_type": "code",
   "execution_count": 18,
   "metadata": {},
   "outputs": [
    {
     "data": {
      "text/plain": [
       "array([[ 2,  4,  1],\n",
       "       [ 6, 12,  3]])"
      ]
     },
     "execution_count": 18,
     "metadata": {},
     "output_type": "execute_result"
    }
   ],
   "source": [
    "## create a 2 x 3 matrix by first creating\n",
    "## a flat np array and then reshaping to those dimensions\n",
    "A = np.reshape(np.array([2, 4, 1, 6, 12, 3]),\n",
    "               (2, 3))\n",
    "A\n"
   ]
  },
  {
   "cell_type": "code",
   "execution_count": 22,
   "metadata": {},
   "outputs": [
    {
     "data": {
      "text/plain": [
       "array([0, 0, 0])"
      ]
     },
     "execution_count": 22,
     "metadata": {},
     "output_type": "execute_result"
    },
    {
     "data": {
      "text/plain": [
       "array([2])"
      ]
     },
     "execution_count": 22,
     "metadata": {},
     "output_type": "execute_result"
    }
   ],
   "source": [
    "## find the cross product using the np.cross function\n",
    "sen1 = A[0]\n",
    "sen2 = A[1]\n",
    "np.cross(sen1, sen2)\n",
    "\n",
    "## find the cross product more manually by finding the submatrices"
   ]
  },
  {
   "cell_type": "markdown",
   "metadata": {},
   "source": [
    "# 2. Matrices"
   ]
  },
  {
   "cell_type": "markdown",
   "metadata": {},
   "source": [
    "## 2.1 Matrix multiplication practice\n",
    "\n",
    "See slide for instructions"
   ]
  },
  {
   "cell_type": "code",
   "execution_count": 41,
   "metadata": {},
   "outputs": [
    {
     "data": {
      "text/plain": [
       "array([[ 3,  1, -2],\n",
       "       [ 6,  3,  4]])"
      ]
     },
     "execution_count": 41,
     "metadata": {},
     "output_type": "execute_result"
    },
    {
     "data": {
      "text/plain": [
       "array([[4, 2],\n",
       "       [3, 0],\n",
       "       [1, 2]])"
      ]
     },
     "execution_count": 41,
     "metadata": {},
     "output_type": "execute_result"
    }
   ],
   "source": [
    "## we provide the matrices\n",
    "Y = np.reshape(np.array([3, 1, -2, 6, 3, 4]), (2, 3))\n",
    "Y\n",
    "\n",
    "X = np.reshape(np.array([4, 2, 3, 0, 1, 2]), (3, 2))\n",
    "X"
   ]
  },
  {
   "cell_type": "code",
   "execution_count": 42,
   "metadata": {},
   "outputs": [
    {
     "data": {
      "text/plain": [
       "(3, 2)"
      ]
     },
     "execution_count": 42,
     "metadata": {},
     "output_type": "execute_result"
    },
    {
     "data": {
      "text/plain": [
       "(2, 3)"
      ]
     },
     "execution_count": 42,
     "metadata": {},
     "output_type": "execute_result"
    },
    {
     "data": {
      "text/plain": [
       "array([[24, 10,  0],\n",
       "       [ 9,  3, -6],\n",
       "       [15,  7,  6]])"
      ]
     },
     "execution_count": 42,
     "metadata": {},
     "output_type": "execute_result"
    }
   ],
   "source": [
    "## answers \n",
    "### dimensions\n",
    "X.shape\n",
    "Y.shape\n",
    "\n",
    "## multiply using dot\n",
    "np.dot(X, Y)\n",
    "\n",
    "## see slides for manual answer\n"
   ]
  },
  {
   "cell_type": "markdown",
   "metadata": {},
   "source": [
    "## 2.2 Practice with transpose\n",
    "\n",
    "See slide for instructions"
   ]
  },
  {
   "cell_type": "code",
   "execution_count": 48,
   "metadata": {},
   "outputs": [
    {
     "data": {
      "text/plain": [
       "array([[0.22297336, 0.88754109, 0.2065727 ],\n",
       "       [0.01390197, 0.3353813 , 0.96403527],\n",
       "       [0.72277712, 0.41394327, 0.87478524],\n",
       "       [0.12568751, 0.25409603, 0.74629969],\n",
       "       [0.83339158, 0.47150811, 0.49945983]])"
      ]
     },
     "execution_count": 48,
     "metadata": {},
     "output_type": "execute_result"
    },
    {
     "data": {
      "text/plain": [
       "array([[0.35064092],\n",
       "       [0.68561768],\n",
       "       [0.90472777],\n",
       "       [0.77868512],\n",
       "       [0.61991348]])"
      ]
     },
     "execution_count": 48,
     "metadata": {},
     "output_type": "execute_result"
    },
    {
     "data": {
      "text/plain": [
       "array([[0.6840864 ],\n",
       "       [0.48380995],\n",
       "       [0.69073672]])"
      ]
     },
     "execution_count": 48,
     "metadata": {},
     "output_type": "execute_result"
    }
   ],
   "source": [
    "## constructing matrices - content is arbitrary so \n",
    "## I generate randomly\n",
    "np.random.seed(91988)\n",
    "X = np.random.rand(5, 3)\n",
    "X\n",
    "\n",
    "Y = np.random.rand(5, 1)\n",
    "Y\n",
    "\n",
    "beta = np.random.rand(3, 1)\n",
    "beta"
   ]
  },
  {
   "cell_type": "code",
   "execution_count": 52,
   "metadata": {},
   "outputs": [
    {
     "data": {
      "text/plain": [
       "(5, 1)"
      ]
     },
     "execution_count": 52,
     "metadata": {},
     "output_type": "execute_result"
    },
    {
     "data": {
      "text/plain": [
       "array([[0.59520073]])"
      ]
     },
     "execution_count": 52,
     "metadata": {},
     "output_type": "execute_result"
    }
   ],
   "source": [
    "## 1. dimensions of y-xb\n",
    "result = Y-np.dot(X, beta)\n",
    "result.shape\n",
    "\n",
    "## 2. transpose to get multiplication of\n",
    "## (Y-XB)*(Y-XB) to produce a 1x1 result\n",
    "result2 = np.dot(np.transpose((Y-np.dot(X, beta))), (Y-np.dot(X, beta)))\n",
    "result2\n",
    "\n",
    "## 3. see slide for solution of manual distribution\n",
    "## of transposes"
   ]
  },
  {
   "cell_type": "markdown",
   "metadata": {},
   "source": [
    "## 2.3 Practice with inverting a matrix\n",
    "\n",
    "See slide for instructions"
   ]
  },
  {
   "cell_type": "code",
   "execution_count": 54,
   "metadata": {},
   "outputs": [
    {
     "data": {
      "text/plain": [
       "array([[1, 2],\n",
       "       [3, 3]])"
      ]
     },
     "execution_count": 54,
     "metadata": {},
     "output_type": "execute_result"
    },
    {
     "data": {
      "text/plain": [
       "array([[-2, -3],\n",
       "       [-4, -4]])"
      ]
     },
     "execution_count": 54,
     "metadata": {},
     "output_type": "execute_result"
    }
   ],
   "source": [
    "## example\n",
    "X = np.reshape(np.array([1, 2, 3, 3]), (2, 2))\n",
    "X\n"
   ]
  },
  {
   "cell_type": "code",
   "execution_count": 60,
   "metadata": {},
   "outputs": [
    {
     "data": {
      "text/plain": [
       "-3"
      ]
     },
     "execution_count": 60,
     "metadata": {},
     "output_type": "execute_result"
    },
    {
     "data": {
      "text/plain": [
       "-0.3333333333333333"
      ]
     },
     "execution_count": 60,
     "metadata": {},
     "output_type": "execute_result"
    },
    {
     "data": {
      "text/plain": [
       "array([[-1.        ,  0.66666667],\n",
       "       [ 1.        , -0.33333333]])"
      ]
     },
     "execution_count": 60,
     "metadata": {},
     "output_type": "execute_result"
    },
    {
     "data": {
      "text/plain": [
       "array([[-1.        ,  0.66666667],\n",
       "       [ 1.        , -0.33333333]])"
      ]
     },
     "execution_count": 60,
     "metadata": {},
     "output_type": "execute_result"
    }
   ],
   "source": [
    "## more manually\n",
    "### first, find the determination of the matrix\n",
    "det_X = (1*3) - (3*2)\n",
    "det_X\n",
    "\n",
    "scalar_det = 1/det_X\n",
    "scalar_det\n",
    "### then, flip order of matrix elements and multiple by 1/det_X\n",
    "scalar_det * np.reshape(np.array([3, -2, -3, 1]), (2, 2))\n",
    "\n",
    "## more automatically\n",
    "np.linalg.inv(X)"
   ]
  }
 ],
 "metadata": {
  "kernelspec": {
   "display_name": "Python 3",
   "language": "python",
   "name": "python3"
  },
  "language_info": {
   "codemirror_mode": {
    "name": "ipython",
    "version": 3
   },
   "file_extension": ".py",
   "mimetype": "text/x-python",
   "name": "python",
   "nbconvert_exporter": "python",
   "pygments_lexer": "ipython3",
   "version": "3.8.3"
  }
 },
 "nbformat": 4,
 "nbformat_minor": 4
}
